{
  "cells": [
    {
      "cell_type": "markdown",
      "metadata": {},
      "source": [
        "# Test Processing Workflow (Core)\n",
        "\n",
        "This notebook demonstrates running the core processing workflow without the Qt UI.\n"
      ]
    },
    {
      "cell_type": "code",
      "execution_count": null,
      "metadata": {},
      "outputs": [],
      "source": [
        "from pathlib import Path\n",
        "import logging\n",
        "\n",
        "from pyama_core.io.nikon import load_nd2\n",
        "from pyama_core.workflow.workflow import ProcessingWorkflow, ProcessingContext\n",
        "\n",
        "logging.basicConfig(level=logging.INFO)\n",
        "\n"
      ]
    },
    {
      "cell_type": "code",
      "execution_count": null,
      "metadata": {},
      "outputs": [],
      "source": [
        "# Configure inputs\n",
        "ND2_PATH = Path(\"/path/to/file.nd2\")  # change me\n",
        "OUTPUT_DIR = Path(\"/tmp/pyama-output\")\n",
        "# Select channels by index\n",
        "PHASE_CONTRAST_CH = 0\n",
        "FLUORESCENCE_CHS = [1]  # list of ints\n",
        "\n",
        "OUTPUT_DIR.mkdir(parents=True, exist_ok=True)\n"
      ]
    },
    {
      "cell_type": "code",
      "execution_count": null,
      "metadata": {},
      "outputs": [],
      "source": [
        "# Load metadata (for verification) and build context\n",
        "_, md = load_nd2(ND2_PATH)\n",
        "print(md)\n",
        "\n",
        "context: ProcessingContext = {\n",
        "    \"output_dir\": OUTPUT_DIR,\n",
        "    \"channels\": {\n",
        "        \"phase_contrast\": PHASE_CONTRAST_CH,\n",
        "        \"fluorescence\": FLUORESCENCE_CHS,\n",
        "    },\n",
        "    \"npy_paths\": {},\n",
        "    \"params\": {},\n",
        "}\n",
        "\n"
      ]
    },
    {
      "cell_type": "code",
      "execution_count": null,
      "metadata": {},
      "outputs": [],
      "source": [
        "# Run the workflow\n",
        "workflow = ProcessingWorkflow()\n",
        "success = workflow.run_complete_workflow(\n",
        "    metadata=md,\n",
        "    context=context,\n",
        "    fov_start=0,\n",
        "    fov_end=None,\n",
        "    batch_size=2,\n",
        "    n_workers=2,\n",
        ")\n",
        "print(\"Success:\", success)\n"
      ]
    }
  ],
  "metadata": {
    "language_info": {
      "name": "python"
    }
  },
  "nbformat": 4,
  "nbformat_minor": 2
}
