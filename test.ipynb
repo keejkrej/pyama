{
 "cells": [
  {
   "cell_type": "code",
   "execution_count": 1,
   "id": "645d85bc",
   "metadata": {},
   "outputs": [],
   "source": [
    "import nd2"
   ]
  },
  {
   "cell_type": "code",
   "execution_count": 2,
   "id": "711980f3",
   "metadata": {},
   "outputs": [
    {
     "name": "stdout",
     "output_type": "stream",
     "text": [
      "{'T': 87, 'P': 132, 'C': 3, 'Y': 2044, 'X': 2048}\n"
     ]
    }
   ],
   "source": [
    "nd2_path = \"D:/250115_HuH7 - Kopie.nd2\"\n",
    "with nd2.ND2File(str(nd2_path)) as images:\n",
    "    print(images.sizes)"
   ]
  },
  {
   "cell_type": "code",
   "execution_count": null,
   "id": "e49cb401",
   "metadata": {},
   "outputs": [],
   "source": []
  }
 ],
 "metadata": {
  "kernelspec": {
   "display_name": ".venv",
   "language": "python",
   "name": "python3"
  },
  "language_info": {
   "codemirror_mode": {
    "name": "ipython",
    "version": 3
   },
   "file_extension": ".py",
   "mimetype": "text/x-python",
   "name": "python",
   "nbconvert_exporter": "python",
   "pygments_lexer": "ipython3",
   "version": "3.13.5"
  }
 },
 "nbformat": 4,
 "nbformat_minor": 5
}
